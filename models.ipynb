{
  "nbformat": 4,
  "nbformat_minor": 0,
  "metadata": {
    "colab": {
      "name": "models.ipynb",
      "provenance": [],
      "collapsed_sections": [],
      "toc_visible": true
    },
    "kernelspec": {
      "name": "python3",
      "display_name": "Python 3"
    }
  },
  "cells": [
    {
      "cell_type": "code",
      "metadata": {
        "id": "GEA-ZAlairKv",
        "colab_type": "code",
        "outputId": "63ce46e0-d1b2-4da4-f1e1-5f665731a573",
        "colab": {
          "base_uri": "https://localhost:8080/",
          "height": 140
        }
      },
      "source": [
        "import pandas as pd\n",
        "import numpy as np\n",
        "import tensorflow as tf\n",
        "import matplotlib.pyplot as plt\n",
        "from sklearn.model_selection import train_test_split\n",
        "from sklearn.metrics import scorer, accuracy_score, mean_squared_error, r2_score\n",
        "from sklearn.preprocessing import StandardScaler, MinMaxScaler\n",
        "from sklearn.pipeline import Pipeline\n",
        "from sklearn.svm import SVR\n",
        "from subprocess import call\n",
        "from sklearn.tree import DecisionTreeRegressor, export_graphviz\n",
        "from sklearn.pipeline import Pipeline\n",
        "from sklearn.linear_model import LinearRegression\n",
        "%tensorflow_version 2.x"
      ],
      "execution_count": null,
      "outputs": []
    },
    {
      "cell_type": "markdown",
      "metadata": {
        "id": "I5huioxvivQO",
        "colab_type": "text"
      },
      "source": [
        "# Data Creation\n",
        "- wml = returns of WinnerMinusLoser portfolio\n",
        "- iml = returns of IlliquidityMinusLiquidity portfolio\n",
        "- market_value = market return"
      ]
    },
    {
      "cell_type": "code",
      "metadata": {
        "id": "CUQsT3QBi5V4",
        "colab_type": "code",
        "colab": {}
      },
      "source": [
        "wml_data = pd.read_csv('wml.csv', delimiter=',', header=0)\n",
        "iml_data = pd.read_csv('iml.csv', delimiter=',', header=0)\n",
        "target = pd.read_csv('returns.csv', delimiter=',', header=0)\n",
        "market_value = pd.read_csv('market_value.csv', delimiter=',', header=0)\n",
        "\n",
        "target = target[213:-1]\n",
        "\n",
        "# 213 is index of 01.01.2009.\n",
        "data = pd.DataFrame({'iml': iml_data['iml'][213:]})\n",
        "new_col = pd.DataFrame({'wml': wml_data['wml'][213:]})\n",
        "data = data.join(new_col)\n",
        "data = data.reset_index()\n",
        "mv_data = market_value['Adj Close']\n",
        "new_col = pd.DataFrame({'market_value': mv_data})\n",
        "data = data.join(new_col)\n",
        "data = data.dropna()\n",
        "data = data.reset_index(drop=True)\n",
        "target = target.reset_index(drop=True)\n",
        "\n",
        "stocks = target.columns.values"
      ],
      "execution_count": null,
      "outputs": []
    },
    {
      "cell_type": "code",
      "metadata": {
        "id": "fiNn1xNFnshr",
        "colab_type": "code",
        "outputId": "553bab1e-d806-4fb6-d4cb-33c66d3f9646",
        "colab": {
          "base_uri": "https://localhost:8080/",
          "height": 424
        }
      },
      "source": [
        "data"
      ],
      "execution_count": null,
      "outputs": []
    },
    {
      "cell_type": "markdown",
      "metadata": {
        "id": "zsS-jVmq2M3B",
        "colab_type": "text"
      },
      "source": [
        "# LINEAR REGRESSION"
      ]
    },
    {
      "cell_type": "code",
      "metadata": {
        "id": "c8Dyd9eZ1_88",
        "colab_type": "code",
        "outputId": "d418b926-8218-44e8-8bfa-af1f2f492775",
        "colab": {
          "base_uri": "https://localhost:8080/",
          "height": 1000
        }
      },
      "source": [
        "X = data[['iml', 'wml', 'market_value']].values\n",
        "\n",
        "for Y in stocks[1:]:\n",
        "\n",
        "    X_train, X_test, y_train, y_test = train_test_split(X, target[Y].values[1:], test_size=0.2, random_state=0)\n",
        "    regressor = LinearRegression()\n",
        "    regressor.fit(X_train, y_train)  # training the algorithm\n",
        "    coeffs = (regressor.intercept_, regressor.coef_)\n",
        "    y_pred = regressor.predict(X_test)\n",
        "    print('-----' + Y + '------')\n",
        "    print('Mean Squared Error:' , mean_squared_error(y_test, y_pred))\n",
        "    print('R2_score:', r2_score(y_test, y_pred))"
      ],
      "execution_count": null,
      "outputs": []
    },
    {
      "cell_type": "markdown",
      "metadata": {
        "id": "2DoqXosNjSQG",
        "colab_type": "text"
      },
      "source": [
        "# DECISION TREE\n"
      ]
    },
    {
      "cell_type": "code",
      "metadata": {
        "id": "aHbS_QY1kZU1",
        "colab_type": "code",
        "outputId": "461f2549-058b-4f8f-fd87-f456f3386487",
        "colab": {
          "base_uri": "https://localhost:8080/",
          "height": 549
        }
      },
      "source": [
        "X = data[['iml', 'wml', 'market_value']].values\n",
        "\n",
        "# List of values to try for max_depth:\n",
        "max_depth_range = list(range(1, 6))\n",
        "accuracy_total = []\n",
        "for Y in stocks[1:]:\n",
        "    X_train, X_test, y_train, y_test = train_test_split(X, target[Y].values[1:], test_size=0.2, random_state=0, shuffle=False)\n",
        "\n",
        "    # List to store the average RMSE for each value of max_depth:\n",
        "    accuracy = []\n",
        "    for depth in max_depth_range:\n",
        "        clf = DecisionTreeRegressor(max_depth=depth, random_state=0)\n",
        "        clf.fit(X_train, y_train)\n",
        "        score = clf.score(X_test, y_test)\n",
        "        accuracy.append(score)\n",
        "\n",
        "    # index + 1 = best depth\n",
        "    max_index = accuracy.index(max(accuracy)) + 1\n",
        "    dt = DecisionTreeRegressor(max_depth=max_index, random_state=0)\n",
        "    dt.fit(X_train, y_train)\n",
        "    score = dt.score(X_test, y_test)\n",
        "    accuracy_total.append(score)\n",
        "    # graph vizualized only for one stock --> copy from .dot file u http://webgraphviz.com/\n",
        "    if Y == 'WTM':\n",
        "        export_graphviz(dt, out_file='tree.dot', feature_names=['iml', 'wml', 'market_value'])\n",
        "\n",
        "        call(['dot', '-Tpng', 'tree.dot', '-o', 'tree.png', '-Gdpi=600'])\n",
        "\n",
        "        # Display in python\n",
        "        plt.figure(figsize = (14, 18))\n",
        "        plt.imshow(plt.imread('tree.png'))\n",
        "        plt.axis('off');\n",
        "        plt.show();\n",
        "\n",
        "plt.plot(stocks[1:], accuracy_total)\n",
        "plt.show()"
      ],
      "execution_count": null,
      "outputs": []
    },
    {
      "cell_type": "markdown",
      "metadata": {
        "id": "Zf5W8N2XkeGJ",
        "colab_type": "text"
      },
      "source": [
        "# SVM"
      ]
    },
    {
      "cell_type": "code",
      "metadata": {
        "id": "AJVvpF2lkhRV",
        "colab_type": "code",
        "outputId": "caedeac7-efeb-4ee5-d028-57e3c2d62e2f",
        "colab": {
          "base_uri": "https://localhost:8080/",
          "height": 1000
        }
      },
      "source": [
        "X = data[['iml', 'wml', 'market_value']].values\n",
        "\n",
        "for Y in stocks[1:]:\n",
        "    X_train, X_test, Y_train, Y_test = train_test_split(X, target[Y].values[1:], test_size=0.2, random_state=0, shuffle=False)\n",
        "\n",
        "    scaler = StandardScaler()\n",
        "    X_train = scaler.fit_transform(X_train)\n",
        "    X_test = scaler.transform(X_test)\n",
        "\n",
        "    clf = SVR().fit(X_train, Y_train)\n",
        "    y_pred = clf.predict(X_test)\n",
        "    # create empty table with 2 fields --> nesto da namistim dimenzije\n",
        "    #helper = np.zeros(shape=(len(y_pred), 3) )\n",
        "    # put the predicted values in the right field\n",
        "    #helper[:,0] = y_pred\n",
        "    # inverse transform and then select the right field\n",
        "    #y_pred = scaler.inverse_transform(y_pred)\n",
        "\n",
        "    plt.plot(Y_test, color = 'black', label = 'Test data return')\n",
        "    plt.plot(y_pred, color = 'green', label = 'Predicted data return')\n",
        "    plt.title('Prediction of returns with SVM')\n",
        "    plt.xlabel('Time')\n",
        "    plt.ylabel('Data return')\n",
        "    plt.legend()\n",
        "    plt.show()"
      ],
      "execution_count": null,
      "outputs": []
    },
    {
      "cell_type": "markdown",
      "metadata": {
        "id": "tYNfCqhRlpX7",
        "colab_type": "text"
      },
      "source": [
        "# MULTILAYER PERCEPTRON"
      ]
    },
    {
      "cell_type": "code",
      "metadata": {
        "id": "R4A1JHTLlX9s",
        "colab_type": "code",
        "outputId": "9daba619-a434-4291-dd84-99bc9aca25a4",
        "colab": {
          "base_uri": "https://localhost:8080/",
          "height": 1000
        }
      },
      "source": [
        "scaler = MinMaxScaler(feature_range = (0, 1))\n",
        "\n",
        "# 213 is index of 01/01/2009\n",
        "X = data[['iml', 'wml', 'market_value']].values\n",
        "for Y in stocks[1:]:\n",
        "    print('-----' + Y + '------')\n",
        "    X_train, X_test, Y_train, Y_test = train_test_split(X, target[Y].values[1:], test_size=0.2, random_state=0)\n",
        "    X_train, X_val, Y_train, Y_val = train_test_split(X_train, Y_train, test_size=0.2, random_state=0, shuffle=False)\n",
        "\n",
        "    # scale data\n",
        "    X_train = scaler.fit_transform(X_train)\n",
        "    X_test = scaler.transform(X_test)\n",
        "    X_val = scaler.transform(X_val)\n",
        "    \n",
        "    # define model\n",
        "    model = tf.keras.models.Sequential()\n",
        "    model.add(tf.keras.layers.Dense(100, activation=tf.nn.relu))\n",
        "    model.add(tf.keras.layers.Dense(100, activation=tf.nn.relu))\n",
        "    model.add(tf.keras.layers.Dense(1, activation=tf.nn.relu))\n",
        "    model.compile(optimizer=\"adam\", loss=\"mean_squared_error\")\n",
        "    #fit model\n",
        "    model.fit(X_train, Y_train, epochs=100)\n",
        "    #evaluate model on test data\n",
        "    model.evaluate(X_test, Y_test)\n",
        "\n",
        "    # backtest the model\n",
        "    y_pred = model.predict(X_val)\n",
        "    # create empty table with 2 fields --> nesto da namistim dimenzije\n",
        "    helper = np.zeros(shape=(len(y_pred), 3) )\n",
        "    # put the predicted values in the right field\n",
        "    helper[:,0] = y_pred[:,0]\n",
        "    # inverse transform and then select the right field\n",
        "    y_pred = scaler.inverse_transform(helper)[:,0]\n",
        "    plt.plot(Y_val, color = 'black', label = 'Validation data return')\n",
        "    plt.plot(y_pred, color = 'green', label = 'Predicted data return')\n",
        "    plt.title('Prediction of returns with MLP')\n",
        "    plt.xlabel('Time')\n",
        "    plt.ylabel('Data return')\n",
        "    plt.legend()\n",
        "    plt.show()"
      ],
      "execution_count": null,
      "outputs": []
    },
    {
      "cell_type": "markdown",
      "metadata": {
        "id": "3RO_rAHdryBN",
        "colab_type": "text"
      },
      "source": [
        "# LSTM"
      ]
    },
    {
      "cell_type": "code",
      "metadata": {
        "id": "jhzCH_Grp1r2",
        "colab_type": "code",
        "outputId": "46756d99-7c13-433a-9f1d-76638bbd9117",
        "colab": {
          "base_uri": "https://localhost:8080/",
          "height": 1000
        }
      },
      "source": [
        "X = data[['iml', 'wml', 'market_value']].values\n",
        "\n",
        "for Y in stocks[1:]:\n",
        "    print('-----' + Y + '------')\n",
        "    X_train, X_test, Y_train, Y_test = train_test_split(X, target[Y].values[1:], test_size=0.2, random_state=0, shuffle=False)\n",
        "    X_train, X_val, Y_train, Y_val = train_test_split(X_train, Y_train, test_size=0.2, random_state = 0, shuffle=False)\n",
        "    \n",
        "    # scale data\n",
        "    X_train = scaler.fit_transform(X_train)\n",
        "    X_test = scaler.transform(X_test)\n",
        "    X_val = scaler.transform(X_val)\n",
        "\n",
        "    # reshape data\n",
        "    X_train = X_train.reshape(X_train.shape[0],X_train.shape[1],1)\n",
        "    X_test = X_test.reshape(X_test.shape[0],X_test.shape[1],1)\n",
        "    X_val = X_val.reshape(X_val.shape[0],X_val.shape[1],1)\n",
        "\n",
        "    # define model\n",
        "    model = tf.keras.Sequential()\n",
        "    model.add(tf.keras.layers.LSTM(20, input_shape=(X_train.shape[1], 1), return_sequences=True))\n",
        "    model.add(tf.keras.layers.LSTM(20))\n",
        "    model.add(tf.keras.layers.Dense(1, activation=tf.nn.relu))\n",
        "    model.compile(optimizer=\"adam\", loss=\"mean_squared_error\")\n",
        "    # fit model\n",
        "    model.fit(X_train, Y_train, epochs = 100, batch_size = 32)\n",
        "    # evaluate model on test data\n",
        "    model.evaluate(X_test, Y_test)\n",
        "\n",
        "    # backtest the model\n",
        "    y_pred = model.predict(X_val)\n",
        "    # create empty table with 2 fields --> nesto da namistim dimenzije\n",
        "    helper = np.zeros(shape=(len(y_pred), 3) )\n",
        "    # put the predicted values in the right field\n",
        "    helper[:,0] = y_pred[:,0]\n",
        "    # inverse transform and then select the right field\n",
        "    y_pred = scaler.inverse_transform(helper)[:,0]\n",
        "    plt.plot(Y_val, color = 'black', label = 'Validation data return')\n",
        "    plt.plot(y_pred, color = 'green', label = 'Predicted data return')\n",
        "    plt.title('Prediction of returns with LSTM')\n",
        "    plt.xlabel('Time')\n",
        "    plt.ylabel('Data return')\n",
        "    plt.legend()\n",
        "    plt.show()"
      ],
      "execution_count": null,
      "outputs": []
    },
    {
      "cell_type": "code",
      "metadata": {
        "id": "s7x6y0N5sLfM",
        "colab_type": "code",
        "colab": {}
      },
      "source": [],
      "execution_count": null,
      "outputs": []
    }
  ]
}